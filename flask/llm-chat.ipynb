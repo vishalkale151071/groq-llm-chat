{
 "cells": [
  {
   "cell_type": "markdown",
   "id": "9b40733e-8f3f-4506-a4cc-ed663e72a78b",
   "metadata": {},
   "source": [
    "# LLM chat using GROQ\n",
    "you can find a working application with next.js UI and Flask api at \n",
    "[https://github.com/vishalkale151071/groq-llm-chat](https://github.com/vishalkale151071/groq-llm-chat)"
   ]
  },
  {
   "cell_type": "markdown",
   "id": "6cd23f48-b9dc-4292-91e4-0500c76cb5f1",
   "metadata": {},
   "source": [
    "### Prepration\n",
    "install groq and other package"
   ]
  },
  {
   "cell_type": "code",
   "execution_count": 1,
   "id": "43735728-a049-4182-b496-08163ff0ea1b",
   "metadata": {},
   "outputs": [
    {
     "name": "stdout",
     "output_type": "stream",
     "text": [
      "Requirement already satisfied: groq in /Users/vishalkale/miniconda3/lib/python3.12/site-packages (0.13.1)\n",
      "Requirement already satisfied: anyio<5,>=3.5.0 in /Users/vishalkale/miniconda3/lib/python3.12/site-packages (from groq) (4.7.0)\n",
      "Requirement already satisfied: distro<2,>=1.7.0 in /Users/vishalkale/miniconda3/lib/python3.12/site-packages (from groq) (1.8.0)\n",
      "Requirement already satisfied: httpx<1,>=0.23.0 in /Users/vishalkale/miniconda3/lib/python3.12/site-packages (from groq) (0.28.1)\n",
      "Requirement already satisfied: pydantic<3,>=1.9.0 in /Users/vishalkale/miniconda3/lib/python3.12/site-packages (from groq) (2.10.4)\n",
      "Requirement already satisfied: sniffio in /Users/vishalkale/miniconda3/lib/python3.12/site-packages (from groq) (1.3.1)\n",
      "Requirement already satisfied: typing-extensions<5,>=4.10 in /Users/vishalkale/miniconda3/lib/python3.12/site-packages (from groq) (4.12.2)\n",
      "Requirement already satisfied: idna>=2.8 in /Users/vishalkale/miniconda3/lib/python3.12/site-packages (from anyio<5,>=3.5.0->groq) (3.4)\n",
      "Requirement already satisfied: certifi in /Users/vishalkale/miniconda3/lib/python3.12/site-packages (from httpx<1,>=0.23.0->groq) (2024.2.2)\n",
      "Requirement already satisfied: httpcore==1.* in /Users/vishalkale/miniconda3/lib/python3.12/site-packages (from httpx<1,>=0.23.0->groq) (1.0.7)\n",
      "Requirement already satisfied: h11<0.15,>=0.13 in /Users/vishalkale/miniconda3/lib/python3.12/site-packages (from httpcore==1.*->httpx<1,>=0.23.0->groq) (0.14.0)\n",
      "Requirement already satisfied: annotated-types>=0.6.0 in /Users/vishalkale/miniconda3/lib/python3.12/site-packages (from pydantic<3,>=1.9.0->groq) (0.7.0)\n",
      "Requirement already satisfied: pydantic-core==2.27.2 in /Users/vishalkale/miniconda3/lib/python3.12/site-packages (from pydantic<3,>=1.9.0->groq) (2.27.2)\n",
      "Note: you may need to restart the kernel to use updated packages.\n",
      "Requirement already satisfied: python_dotenv in /Users/vishalkale/miniconda3/lib/python3.12/site-packages (1.0.1)\n",
      "Note: you may need to restart the kernel to use updated packages.\n"
     ]
    }
   ],
   "source": [
    "%pip install groq\n",
    "%pip install python_dotenv"
   ]
  },
  {
   "cell_type": "markdown",
   "id": "261455a2-f1b4-4a5b-ae4f-cc0b1be8bb84",
   "metadata": {},
   "source": [
    "Add dependancies"
   ]
  },
  {
   "cell_type": "code",
   "execution_count": 2,
   "id": "ac9fbabe-e357-41c8-acc7-d5bcd6b15d2d",
   "metadata": {},
   "outputs": [],
   "source": [
    "import os\n",
    "from groq import Groq\n",
    "from dotenv import load_dotenv\n",
    "import json"
   ]
  },
  {
   "cell_type": "markdown",
   "id": "4e2d5773-b96d-42e5-8e98-f5ff345b6c70",
   "metadata": {},
   "source": [
    "### Define groq api key to connect with llm.\n",
    "Set llm_model to llama-3.1-8b-instant"
   ]
  },
  {
   "cell_type": "code",
   "execution_count": 3,
   "id": "5f840bd2-c63c-43a9-a21f-8877bb0fcfc6",
   "metadata": {},
   "outputs": [],
   "source": [
    "load_dotenv()\n",
    "groq_api_key = os.environ.get('GROQ_API_KEY')\n",
    "llm_model = \"llama-3.1-8b-instant\"\n",
    "\n",
    "if not groq_api_key:\n",
    "    raise RuntimeError(\"GROQ_API_KEY environment variable is not set.\")"
   ]
  },
  {
   "cell_type": "markdown",
   "id": "48b9b6b0-7db8-4431-bc44-819be819ae38",
   "metadata": {},
   "source": [
    "### Create Groq client"
   ]
  },
  {
   "cell_type": "code",
   "execution_count": 4,
   "id": "09e912e4-84e9-4f03-b59e-81f9f01e7b05",
   "metadata": {},
   "outputs": [],
   "source": [
    "llm_client = Groq(api_key=groq_api_key)"
   ]
  },
  {
   "cell_type": "markdown",
   "id": "a20d902f-7bc7-4abb-b333-47951bff8d29",
   "metadata": {},
   "source": [
    "### Declare list to keep track of conversation"
   ]
  },
  {
   "cell_type": "code",
   "execution_count": 5,
   "id": "999472d0-c86d-4f56-9772-f31011e76471",
   "metadata": {},
   "outputs": [],
   "source": [
    "chat_history = []"
   ]
  },
  {
   "cell_type": "markdown",
   "id": "ca4c81c4-0429-4962-8a75-14c540d8c7c4",
   "metadata": {},
   "source": [
    "### Define System prompt"
   ]
  },
  {
   "cell_type": "code",
   "execution_count": 6,
   "id": "0643e303-75b0-4a87-bfc5-44b3cb0c2e3d",
   "metadata": {},
   "outputs": [],
   "source": [
    "sys_prompt = \"\"\"\n",
    "### **System Prompt**\n",
    "\n",
    "**Role**:  \n",
    "You are an advanced AI assistant trained to process user queries about company performance metrics and generate a structured JSON response. Follow these instructions carefully.\n",
    "\n",
    "---\n",
    "\n",
    "#### **Instructions:**\n",
    "\n",
    "1. **Query Analysis**:  \n",
    "   Extract the following details from the user query:  \n",
    "   - **Entity**: Identify valid company names mentioned (e.g., \"Amazon\", \"Apple\"). If the entity is a subsidiary, replace it with the parent company's name (e.g., \"Instagram\" → \"Meta Platforms Inc. (Parent Company of Instagram)\").  \n",
    "   - **Parameter**: Extract the performance metric (e.g., \"profit\", \"revenue\"). Validate against the list of valid metrics: `profit`, `revenue`, `sales`, `PE ratio`, `GMV`, `EBITDA`, etc.  \n",
    "   - **Start Date**: Extract the start date. If missing, use a default of one year ago from today or infer it from context (e.g., \"last quarter\").  \n",
    "   - **End Date**: Extract the end date. If missing, use today’s date or infer it from context.\n",
    "\n",
    "2. **Entity Validation**:  \n",
    "   - Ensure the extracted entity is a valid company or organization.  \n",
    "   - If invalid (e.g., \"happiness\"), set `\"success\": false` and return an error message:  \n",
    "     `\"Invalid entity: <entity_name> is not a valid company or organization.\"`\n",
    "\n",
    "3. **Parameter Validation**:  \n",
    "   - Ensure the extracted parameter matches a valid performance metric.  \n",
    "   - If invalid, set `\"success\": false` and return an error message:  \n",
    "     `\"Invalid parameter: <parameter_name> is not a valid performance metric.\"`\n",
    "\n",
    "4. **Date Handling**:  \n",
    "   - Convert all dates to ISO 8601 format (`YYYY-MM-DD`).  \n",
    "   - For event-based date ranges (e.g., \"Dot-Com Bubble\"), infer the dates from historical context.\n",
    "\n",
    "5. **Multiple Entities**:  \n",
    "   If the query mentions multiple entities or comparisons, include each entity as a separate JSON object in the `data` array.\n",
    "\n",
    "6. **Output Format**:  \n",
    "   Always return the response in this JSON structure:\n",
    "   ```json\n",
    "   {\n",
    "       \"success\": true/false,\n",
    "       \"message\": \"<error_message_if_any>\",\n",
    "       \"data\": [\n",
    "           {\n",
    "               \"entity\": \"<company_name>\",\n",
    "               \"parameter\": \"<metric_name>\",\n",
    "               \"startDate\": \"<start_date_iso>\",\n",
    "               \"endDate\": \"<end_date_iso>\"\n",
    "           }\n",
    "       ]\n",
    "   }\n",
    "   ```\n",
    "\n",
    "7. **Output Rules**:  \n",
    "   - Output **only valid JSON** enclosed in curly braces `{}`.  \n",
    "   - Do not include **any additional notes, explanations, or text** outside the JSON response.  \n",
    "   - If errors occur, include the reason in the `\"message\"` field.\n",
    "   - Do not add value for given parameter\n",
    "\n",
    "---\n",
    "\n",
    "### JSON Output Template:\n",
    "\n",
    "```json\n",
    "{\n",
    "    \"success\": true/false,\n",
    "    \"message\": \"<error_message_if_any>\",\n",
    "    \"data\": [\n",
    "        {\n",
    "            \"entity\": \"<company_name>\",\n",
    "            \"parameter\": \"<metric_name>\",\n",
    "            \"startDate\": \"<start_date_iso>\",\n",
    "            \"endDate\": \"<end_date_iso>\"\n",
    "        }\n",
    "    ]\n",
    "}\n",
    "\n",
    "---\n",
    "\n",
    "#### **Examples**:\n",
    "\n",
    "**Example 1**: Wrong output  \n",
    "_Output_:  \n",
    "```json\n",
    "{\n",
    "    \"success\": true,\n",
    "    \"message\": null,\n",
    "    \"data\": [\n",
    "        {\n",
    "            \"entity\": \"<company_name>\",\n",
    "            \"parameter\": \"<metric_name>\",\n",
    "            \"startDate\": \"<start_date_iso>\",\n",
    "            \"endDate\": \"<end_date_iso>\"\n",
    "            \"value\": <value for parameter>\n",
    "        }\n",
    "    ]\n",
    "}\n",
    "```\n",
    "\n",
    "**Example 1**: Valid Query  \n",
    "_Input_: \"What was Apple's profit last year?\"  \n",
    "_Output_:  \n",
    "```json\n",
    "{\n",
    "    \"success\": true,\n",
    "    \"message\": null,\n",
    "    \"data\": [\n",
    "        {\n",
    "            \"entity\": \"Apple\",\n",
    "            \"parameter\": \"profit\",\n",
    "            \"startDate\": \"2023-01-01\",\n",
    "            \"endDate\": \"2023-12-31\"\n",
    "        }\n",
    "    ]\n",
    "}\n",
    "```\n",
    "\n",
    "**Example 2**: Missing Entity  \n",
    "_Input_: \"What was the profit last year?\"  \n",
    "_Output_:  \n",
    "```json\n",
    "{\n",
    "    \"success\": false,\n",
    "    \"message\": \"Failed to get entity\",\n",
    "    \"data\": []\n",
    "}\n",
    "```\n",
    "\n",
    "**Example 3**: Invalid Parameter  \n",
    "_Input_: \"What was Apple's happiness score last year?\"  \n",
    "_Output_:  \n",
    "```json\n",
    "{\n",
    "    \"success\": false,\n",
    "    \"message\": \"Invalid parameter: happiness score is not a valid performance metric.\",\n",
    "    \"data\": []\n",
    "}\n",
    "```\n",
    "\n",
    "**Example 4**: Event-Based Dates  \n",
    "_Input_: \"What is Instagram's revenue during the Dot-Com Bubble?\"  \n",
    "_Output_:  \n",
    "```json\n",
    "{\n",
    "    \"success\": true,\n",
    "    \"message\": null,\n",
    "    \"data\": [\n",
    "        {\n",
    "            \"entity\": \"Meta Platforms Inc. (Parent Company of Instagram)\",\n",
    "            \"parameter\": \"revenue\",\n",
    "            \"startDate\": \"1995-01-01\",\n",
    "            \"endDate\": \"2000-12-31\"\n",
    "        }\n",
    "    ]\n",
    "}\n",
    "```\n",
    "\n",
    "**Example 5**: Multiple Companies  \n",
    "_Input_: \"Compare Amazon and Flipkart revenue for last quarter.\"  \n",
    "_Output_:  \n",
    "```json\n",
    "{\n",
    "    \"success\": true,\n",
    "    \"message\": null,\n",
    "    \"data\": [\n",
    "        {\n",
    "            \"entity\": \"Amazon\",\n",
    "            \"parameter\": \"revenue\",\n",
    "            \"startDate\": \"2023-10-01\",\n",
    "            \"endDate\": \"2023-12-31\"\n",
    "        },\n",
    "        {\n",
    "            \"entity\": \"Flipkart\",\n",
    "            \"parameter\": \"revenue\",\n",
    "            \"startDate\": \"2023-10-01\",\n",
    "            \"endDate\": \"2023-12-31\"\n",
    "        }\n",
    "    ]\n",
    "}\n",
    "```\n",
    "\n",
    "\"\"\"\n",
    "\n",
    "system_prompt = {\n",
    "    \"role\": \"system\",\n",
    "    \"content\": sys_prompt\n",
    "}"
   ]
  },
  {
   "cell_type": "markdown",
   "id": "3488ba29-d49e-4c0e-8ecc-426202914dbc",
   "metadata": {},
   "source": [
    "### Create a User prompt\n",
    "Replace your query in content section of object"
   ]
  },
  {
   "cell_type": "code",
   "execution_count": 7,
   "id": "d690828c-96c4-4a1e-92e0-bf683181da60",
   "metadata": {},
   "outputs": [],
   "source": [
    "user_prompt = {\n",
    "    \"role\": \"user\",\n",
    "    \"content\": \"What is the Revenue of Amazone in year 2020?\"\n",
    "}\n",
    "\n",
    "chat_history.append(user_prompt)"
   ]
  },
  {
   "cell_type": "markdown",
   "id": "8d97331a-c0a9-48de-ab62-572b1ebf8fb1",
   "metadata": {},
   "source": [
    "### Create message history for llm\n",
    "Add system prompt at 0 index and chat history after that"
   ]
  },
  {
   "cell_type": "code",
   "execution_count": 8,
   "id": "a4b54a51-6d05-460d-b6cf-aed18a6d50a5",
   "metadata": {},
   "outputs": [
    {
     "name": "stdout",
     "output_type": "stream",
     "text": [
      "{'role': 'user', 'content': 'What is the Revenue of Amazone in year 2020?'}\n"
     ]
    }
   ],
   "source": [
    "messages = [\n",
    "    system_prompt,\n",
    "    *chat_history\n",
    "]\n",
    "\n",
    "print(*chat_history, end=\"\\n\")"
   ]
  },
  {
   "cell_type": "markdown",
   "id": "13e964be-7ad3-449f-bfdf-15cbe4b5b9ed",
   "metadata": {},
   "source": [
    "### Send llm request and print the resposnse\n"
   ]
  },
  {
   "cell_type": "code",
   "execution_count": 9,
   "id": "42fff443-aa3c-46b5-9695-550b8541967a",
   "metadata": {},
   "outputs": [
    {
     "name": "stdout",
     "output_type": "stream",
     "text": [
      "{'entity': 'Amazon', 'parameter': 'revenue', 'startDate': '2020-01-01', 'endDate': '2020-12-31'}\n"
     ]
    }
   ],
   "source": [
    "chat_completion = llm_client.chat.completions.create(\n",
    "        messages=messages,\n",
    "        model=llm_model,\n",
    "        response_format={\"type\": \"json_object\"},\n",
    "    )\n",
    "\n",
    "response = chat_completion.choices[0].message.content\n",
    "\n",
    "response = json.loads(response)\n",
    "\n",
    "\n",
    "chat_history.append({\n",
    "        \"role\": \"assistant\",\n",
    "        \"content\": json.dumps(response)\n",
    "    })\n",
    "\n",
    "print(response[\"data\"][0], end=\"\\n\")"
   ]
  },
  {
   "cell_type": "markdown",
   "id": "0050e706-63af-4cfc-bc0f-8673ee878237",
   "metadata": {},
   "source": [
    "### Print the chat History"
   ]
  },
  {
   "cell_type": "code",
   "execution_count": 10,
   "id": "23d15227-06a3-4fb7-975f-322516565537",
   "metadata": {},
   "outputs": [
    {
     "name": "stdout",
     "output_type": "stream",
     "text": [
      "{'role': 'user', 'content': 'What is the Revenue of Amazone in year 2020?'}\n",
      "{'role': 'assistant', 'content': '{\"success\": true, \"message\": null, \"data\": [{\"entity\": \"Amazon\", \"parameter\": \"revenue\", \"startDate\": \"2020-01-01\", \"endDate\": \"2020-12-31\"}]}'}\n"
     ]
    }
   ],
   "source": [
    "for chat in chat_history:\n",
    "    print(chat, end='\\n')"
   ]
  },
  {
   "cell_type": "code",
   "execution_count": 11,
   "id": "d6c10752-49ba-4dda-8eae-c8fbd3b2cad7",
   "metadata": {},
   "outputs": [
    {
     "name": "stdout",
     "output_type": "stream",
     "text": [
      "[\n",
      "  {\n",
      "    \"entity\": \"Meta Platforms Inc. (Parent Company of Facebook)\",\n",
      "    \"parameter\": \"revenue\",\n",
      "    \"startDate\": \"2020-01-01\",\n",
      "    \"endDate\": \"2020-12-31\"\n",
      "  },\n",
      "  {\n",
      "    \"entity\": \"Amazon\",\n",
      "    \"parameter\": \"revenue\",\n",
      "    \"startDate\": \"2020-01-01\",\n",
      "    \"endDate\": \"2020-12-31\"\n",
      "  }\n",
      "]\n"
     ]
    }
   ],
   "source": [
    "user_prompt = {\n",
    "    \"role\": \"user\",\n",
    "    \"content\": \"What is the Revenue of Facbook in year 2020?, and compare it with Amazon\"\n",
    "}\n",
    "\n",
    "chat_history.append(user_prompt)\n",
    "\n",
    "messages = [\n",
    "    system_prompt,\n",
    "    *chat_history\n",
    "]\n",
    "\n",
    "chat_completion = llm_client.chat.completions.create(\n",
    "        messages=messages,\n",
    "        model=llm_model,\n",
    "        response_format={\"type\": \"json_object\"},\n",
    "    )\n",
    "\n",
    "response = chat_completion.choices[0].message.content\n",
    "\n",
    "response = json.loads(response)\n",
    "\n",
    "\n",
    "chat_history.append({\n",
    "        \"role\": \"assistant\",\n",
    "        \"content\": json.dumps(response)\n",
    "    })\n",
    "\n",
    "print(json.dumps(response[\"data\"], indent=2))"
   ]
  },
  {
   "cell_type": "markdown",
   "id": "39a639df-a539-4e86-8b65-d297a70cbac2",
   "metadata": {},
   "source": [
    "### Print the chat History"
   ]
  },
  {
   "cell_type": "code",
   "execution_count": 12,
   "id": "42a5b109-6cc9-4649-8dee-cc1d0d764a6b",
   "metadata": {
    "scrolled": true
   },
   "outputs": [
    {
     "name": "stdout",
     "output_type": "stream",
     "text": [
      "{\n",
      "  \"role\": \"user\",\n",
      "  \"content\": \"What is the Revenue of Amazone in year 2020?\"\n",
      "}\n",
      "{\n",
      "  \"role\": \"assistant\",\n",
      "  \"content\": \"{\\\"success\\\": true, \\\"message\\\": null, \\\"data\\\": [{\\\"entity\\\": \\\"Amazon\\\", \\\"parameter\\\": \\\"revenue\\\", \\\"startDate\\\": \\\"2020-01-01\\\", \\\"endDate\\\": \\\"2020-12-31\\\"}]}\"\n",
      "}\n",
      "{\n",
      "  \"role\": \"user\",\n",
      "  \"content\": \"What is the Revenue of Facbook in year 2020?, and compare it with Amazon\"\n",
      "}\n",
      "{\n",
      "  \"role\": \"assistant\",\n",
      "  \"content\": \"{\\\"success\\\": true, \\\"message\\\": null, \\\"data\\\": [{\\\"entity\\\": \\\"Meta Platforms Inc. (Parent Company of Facebook)\\\", \\\"parameter\\\": \\\"revenue\\\", \\\"startDate\\\": \\\"2020-01-01\\\", \\\"endDate\\\": \\\"2020-12-31\\\"}, {\\\"entity\\\": \\\"Amazon\\\", \\\"parameter\\\": \\\"revenue\\\", \\\"startDate\\\": \\\"2020-01-01\\\", \\\"endDate\\\": \\\"2020-12-31\\\"}]}\"\n",
      "}\n"
     ]
    }
   ],
   "source": [
    "for chat in chat_history:\n",
    "    print(json.dumps(chat, indent=2), end='\\n')"
   ]
  },
  {
   "cell_type": "markdown",
   "id": "28f80bc7-40c5-44fe-b2a2-c31913ed489a",
   "metadata": {},
   "source": [
    "## Explanation\n",
    "Like shown in above history. you can keep adding conversations in history and remove the fisrt 2 messages if history lenght > 6.\n",
    "\n",
    "## Application\n",
    "To exeperience the fully functional app visit [https://github.com/vishalkale151071/groq-llm-chat](https://github.com/vishalkale151071/groq-llm-chat) repository and run app locally using docker."
   ]
  },
  {
   "cell_type": "code",
   "execution_count": null,
   "id": "b2c8d5fd-d5b6-46a7-9e5f-5855f95d66c3",
   "metadata": {},
   "outputs": [],
   "source": []
  }
 ],
 "metadata": {
  "kernelspec": {
   "display_name": "base",
   "language": "python",
   "name": "python3"
  },
  "language_info": {
   "codemirror_mode": {
    "name": "ipython",
    "version": 3
   },
   "file_extension": ".py",
   "mimetype": "text/x-python",
   "name": "python",
   "nbconvert_exporter": "python",
   "pygments_lexer": "ipython3",
   "version": "3.12.2"
  }
 },
 "nbformat": 4,
 "nbformat_minor": 5
}
